{
 "cells": [
  {
   "cell_type": "code",
   "execution_count": 80,
   "metadata": {},
   "outputs": [],
   "source": [
    "#Implementing matrix using class Matrix2D\n",
    "class Matrix2D:\n",
    "    def __init__(self):\n",
    "        '''\n",
    "        Init an empty matrix.\n",
    "        '''\n",
    "        self.matrix = []\n",
    "        self.rows = 0\n",
    "        self.columns = 0\n",
    "        self.name = 'Unnamed'\n",
    "\n",
    "    def __str__(self):\n",
    "        return self.matrix\n",
    "    \n",
    "    def generate(self, rows, columns, verbose=False):\n",
    "        '''\n",
    "        Return a list of lists containing the indices of the matrix (row, col)\n",
    "        and prints it by row.\n",
    "        int, int -> [[(int, int), ...], ...]\n",
    "        '''\n",
    "        self.rows = rows\n",
    "        self.columns = columns\n",
    "        self.matrix = [[(row, col) for col in range(columns)] for row in range(rows)]\n",
    "        if verbose ==  True:\n",
    "            print(f'Generated a {self.rows} row/s by {self.columns} column/s matrix')\n",
    "            print('--------' * columns)\n",
    "            self.printme()\n",
    "            print('--------' * columns)\n",
    "        return self.matrix\n",
    "    \n",
    "    def printme(self, verbose=False):\n",
    "        '''\n",
    "        Print the matrix by row.\n",
    "        '''\n",
    "        if verbose == True:\n",
    "             print(f'I am a {self.rows} row/s by {self.columns} column/s matrix')\n",
    "        for row in self.matrix:\n",
    "             print(row)\n",
    "\n",
    "    def get_row(self, n, verbose=False):\n",
    "        '''\n",
    "        Return the row n of the matrix.\n",
    "        '''\n",
    "        if verbose ==  True:\n",
    "            print(f'matrix[row={n}]...')\n",
    "            print(self.matrix[n])\n",
    "        return self.matrix[n]\n",
    "\n",
    "    def get_col(self, n, verbose=False):\n",
    "        '''\n",
    "        Return the column n of the matrix.\n",
    "        '''\n",
    "        column_items = []\n",
    "        i = 0\n",
    "        while i < self.rows:\n",
    "            column_items.append(self.matrix[i][n])\n",
    "            i += 1\n",
    "        if verbose ==  True:\n",
    "            print(f'matrix[col={n}]...')\n",
    "            for item in column_items:\n",
    "                 print(item)\n",
    "        return column_items\n",
    "\n",
    "    def get_cell(self, row, col, verbose=False):\n",
    "        '''\n",
    "        Return a specific cell of the matrix.\n",
    "        '''\n",
    "        if verbose ==  True:\n",
    "            print(f'cell[row={row}, col={col}]...')\n",
    "            print(self.matrix[row][col])\n",
    "        return self.matrix[row][col]\n",
    "\n",
    "    def write_cell(self, row, col, data, verbose=False):\n",
    "        '''\n",
    "        Assign some data to a specific cell of the matrix.\n",
    "        '''\n",
    "        self.matrix[row][col] = data\n",
    "        if verbose ==  True:\n",
    "            print('Data wrote into cell[row={row}, col={col}]...')\n",
    "            print(self.matrix[row][col])                            \n",
    "        return self.matrix[row][col]\n"
   ]
  },
  {
   "cell_type": "code",
   "execution_count": 81,
   "metadata": {},
   "outputs": [
    {
     "name": "stdout",
     "output_type": "stream",
     "text": [
      "#########\n",
      "Generated a 4 row/s by 5 column/s matrix\n",
      "----------------------------------------\n",
      "[(0, 0), (0, 1), (0, 2), (0, 3), (0, 4)]\n",
      "[(1, 0), (1, 1), (1, 2), (1, 3), (1, 4)]\n",
      "[(2, 0), (2, 1), (2, 2), (2, 3), (2, 4)]\n",
      "[(3, 0), (3, 1), (3, 2), (3, 3), (3, 4)]\n",
      "----------------------------------------\n",
      "[(0, 0), (0, 1), (0, 2), (0, 3), (0, 4)]\n",
      "[(1, 0), (1, 1), (1, 2), (1, 3), (1, 4)]\n",
      "[(2, 0), (2, 1), (2, 2), (2, 3), (2, 4)]\n",
      "[(3, 0), (3, 1), (3, 2), (3, 3), (3, 4)]\n",
      "matrix[row=1]...\n",
      "[(1, 0), (1, 1), (1, 2), (1, 3), (1, 4)]\n",
      "matrix[col=1]...\n",
      "(0, 1)\n",
      "(1, 1)\n",
      "(2, 1)\n",
      "(3, 1)\n",
      "cell[row=3, col=2]...\n",
      "(3, 2)\n",
      "Data wrote into cell[row={row}, col={col}]...\n",
      "(9, 9, 9)\n"
     ]
    },
    {
     "data": {
      "text/plain": [
       "(9, 9, 9)"
      ]
     },
     "execution_count": 81,
     "metadata": {},
     "output_type": "execute_result"
    }
   ],
   "source": [
    "print('#########')\n",
    "m = Matrix2D()\n",
    "m.generate(4,5,True)\n",
    "m.printme()\n",
    "m.get_row(1,True)\n",
    "m.get_col(1,True)\n",
    "m.get_cell(3,2,True)\n",
    "m.write_cell(3,2, (9,9,9),True)"
   ]
  },
  {
   "cell_type": "code",
   "execution_count": 82,
   "metadata": {},
   "outputs": [],
   "source": [
    "# Implementing Matrix class with standard constructor\n",
    "class Matrix:\n",
    "    def __init__(self, n, m):\n",
    "        self.matrix = self.get_matrix(n, m)\n",
    "\n",
    "    def get_matrix(self, n, m):\n",
    "        num = 1\n",
    "        matrix = [[None for j in range(m)] for i in range(n)]\n",
    "        for i in range(len(matrix)):\n",
    "            for j in range(len(matrix[i])):\n",
    "                matrix[i][j] = num\n",
    "                num += 1\n",
    "        return matrix\n",
    "    \n",
    "    def get_readable_matrix_string(self, matrix):\n",
    "        strings = []\n",
    "        for row in matrix:\n",
    "            strings.append(str(row))\n",
    "        return '\\n'.join(strings)  \n",
    "\n",
    "    def __str__(self):\n",
    "        return self.get_readable_matrix_string(self.matrix)\n",
    "    \n",
    "    def __len__(self):\n",
    "        return len(self.matrix)\n",
    "\n",
    "    def __getitem__(self, item):\n",
    "        return self.matrix[item]\n",
    "\n",
    "    def getElement(self, i, j):\n",
    "        return self.matrix[i-1][j-1]\n",
    "    \n",
    "    def setElement(self, i, j, element):\n",
    "        self.matrix[i-1][j-1] = element\n",
    "        \n",
    "    def transpose(self, matrix):\n",
    "        return [list(i) for i in zip(*matrix)]\n",
    "\n",
    "    def getTranspose(self):\n",
    "        return self.get_readable_matrix_string(self.transpose(self.matrix))\n",
    "    \n",
    "    def doTranspose(self):\n",
    "        self.matrix = self.transpose(self.matrix)\n",
    "    \n",
    "    def multiply(self, matrix):\n",
    "        result = [[0 for j in range(len(matrix[i]))] for i in range(len(self.matrix))]\n",
    "        for i in range(len(self.matrix)):\n",
    "            for j in range(len(matrix[0])):\n",
    "                for k in range(len(matrix)):\n",
    "                    result[i][j] += self.matrix[i][k] * matrix[k][j]\n",
    "        return result\n",
    "\n",
    "    def getMultiply(self, matrix):\n",
    "        return self.get_readable_matrix_string(self.multiply(matrix))\n",
    "    \n",
    "    def __mul__(self, other):\n",
    "        if isinstance(other, Matrix):\n",
    "            return self.get_readable_matrix_string(self.multiply(other))\n",
    "        return self.get_readable_matrix_string([[num*other for num in row] for row in self.matrix])\n",
    "    \n",
    "        \n"
   ]
  },
  {
   "cell_type": "code",
   "execution_count": 83,
   "metadata": {},
   "outputs": [
    {
     "name": "stdout",
     "output_type": "stream",
     "text": [
      "[1, 2, 3, 4]\n",
      "[5, 6, 7, 8]\n",
      "[9, 10, 11, 12]\n"
     ]
    }
   ],
   "source": [
    "#Matrix with 3 rows and 4 columns \n",
    "A = Matrix(3, 4)\n",
    "print(A)"
   ]
  },
  {
   "cell_type": "code",
   "execution_count": 84,
   "metadata": {},
   "outputs": [
    {
     "name": "stdout",
     "output_type": "stream",
     "text": [
      "[1, 2, 3, 4, 5]\n",
      "[6, 7, 8, 9, 10]\n",
      "[11, 12, 13, 14, 15]\n",
      "[16, 17, 18, 19, 20]\n"
     ]
    }
   ],
   "source": [
    "# Matrix with 4 rows and 5 columns \n",
    "B = Matrix(4,5)\n",
    "print(B)"
   ]
  },
  {
   "cell_type": "code",
   "execution_count": 85,
   "metadata": {},
   "outputs": [
    {
     "name": "stdout",
     "output_type": "stream",
     "text": [
      "Columns of matrix A are equal to rows of matrix B\n"
     ]
    }
   ],
   "source": [
    "#Implementing Matrix dimensions comparison-If Columns of matrix A are equal to rows of matrix B \n",
    "def dim (A, B):\n",
    "    rows_A = len(A)\n",
    "    cols_A = len(A[0])\n",
    "    rows_B = len(B)\n",
    "    cols_B = len(B[0])\n",
    "\n",
    "    if cols_A != rows_B:\n",
    "        print (\"Cannot multiply the two matrices. Incorrect dimensions.\")\n",
    "    else:    \n",
    "        print (\"Columns of matrix A are equal to rows of matrix B\")\n",
    "        return\n",
    "dim (A,B)    \n"
   ]
  },
  {
   "cell_type": "code",
   "execution_count": 86,
   "metadata": {},
   "outputs": [],
   "source": [
    "#Implementing matrix multiplication \n",
    "def matmult(a,b):\n",
    "    zip_b = zip(*b) \n",
    "    # zip_b = list(zip_b)\n",
    "    return [[sum(ele_a*ele_b for ele_a, ele_b in zip(row_a, col_b)) \n",
    "             for col_b in zip_b] for row_a in a]\n",
    "\n",
    "mx = [[1,2,3,4],[5,6,7,8],[9,10,11,12]]\n",
    "my = [[1,2,3,4,5],[6,7,8,9,10],[11,12,13,14,15],[16,17,18,19,20]]\n",
    "\n",
    "import numpy as np # I want to check my solution with numpy\n",
    "\n",
    "A = np.matrix(mx)\n",
    "B = np.matrix(my)"
   ]
  },
  {
   "cell_type": "code",
   "execution_count": 87,
   "metadata": {},
   "outputs": [
    {
     "data": {
      "text/plain": [
       "matrix([[110, 120, 130, 140, 150],\n",
       "        [246, 272, 298, 324, 350],\n",
       "        [382, 424, 466, 508, 550]])"
      ]
     },
     "execution_count": 87,
     "metadata": {},
     "output_type": "execute_result"
    }
   ],
   "source": [
    "A*B"
   ]
  }
 ],
 "metadata": {
  "kernelspec": {
   "display_name": "Python 3",
   "language": "python",
   "name": "python3"
  },
  "language_info": {
   "codemirror_mode": {
    "name": "ipython",
    "version": 3
   },
   "file_extension": ".py",
   "mimetype": "text/x-python",
   "name": "python",
   "nbconvert_exporter": "python",
   "pygments_lexer": "ipython3",
   "version": "3.8.3"
  }
 },
 "nbformat": 4,
 "nbformat_minor": 4
}
